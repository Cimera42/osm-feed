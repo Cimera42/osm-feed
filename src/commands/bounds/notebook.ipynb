{
 "cells": [
  {
   "cell_type": "code",
   "execution_count": null,
   "id": "framed-death",
   "metadata": {
    "ExecuteTime": {
     "end_time": "2021-07-18T13:25:50.269577Z",
     "start_time": "2021-07-18T13:25:50.209576Z"
    }
   },
   "outputs": [],
   "source": [
    "%matplotlib inline\n",
    "\n",
    "import time\n",
    "\n",
    "import pandas as pd\n",
    "import geopandas as gpd\n",
    "import folium\n",
    "from folium.plugins import MousePosition, BeautifyIcon\n",
    "import math\n",
    "from shapely.geometry import Point, Polygon\n",
    "\n",
    "import json"
   ]
  },
  {
   "cell_type": "code",
   "execution_count": null,
   "id": "8428bfeb",
   "metadata": {
    "scrolled": true
   },
   "outputs": [],
   "source": [
    "with open('../../data/loops.json', 'r') as loopsFile:\n",
    "    data = loopsFile.read()\n",
    "\n",
    "# parse file\n",
    "loops = json.loads(data)\n",
    "loops"
   ]
  },
  {
   "cell_type": "code",
   "execution_count": null,
   "id": "ff738185",
   "metadata": {
    "scrolled": true
   },
   "outputs": [],
   "source": [
    "def loop_to_polygon(loop):\n",
    "    df = pd.DataFrame.from_dict(loop)\n",
    "    return Polygon(zip(df['lon'], df['lat']))\n",
    "\n",
    "def loop_list_to_geo(loop_list):\n",
    "    polygons = [loop_to_polygon(loop) for loop in loop_list]\n",
    "\n",
    "    geocoded = gpd.GeoDataFrame(crs='epsg:4326', geometry=polygons)\n",
    "    return geocoded    \n",
    "\n",
    "def loop_list_map(loop_list, m=None, style={}):\n",
    "    geocoded = loop_list_to_geo(loop_list)\n",
    "    \n",
    "    new_m = m or folium.Map(location=[-25.2744, 133.7751], zoom_start=4, tiles='CartoDB positron')\n",
    "    folium.GeoJson(geocoded, style_function=lambda x: style).add_to(new_m)\n",
    "\n",
    "    return new_m"
   ]
  },
  {
   "cell_type": "code",
   "execution_count": null,
   "id": "90a3f82c",
   "metadata": {},
   "outputs": [],
   "source": [
    "loop_list_map(loops)"
   ]
  },
  {
   "cell_type": "code",
   "execution_count": null,
   "id": "601d034a",
   "metadata": {},
   "outputs": [],
   "source": [
    "def get_lowest_left(loop):\n",
    "    p = loop[0]\n",
    "    for point in loop:\n",
    "        if point['lat'] < p['lat']:\n",
    "            p = point\n",
    "        elif point['lat'] == p['lat'] and point['lon'] < p['lon']:\n",
    "            p = point\n",
    "    return p\n",
    "\n",
    "def get_polar_angle(p0, p1):\n",
    "    return math.atan2(p1['lat'] - p0['lat'], p1['lon'] - p0['lon'])\n",
    "\n",
    "def sq(n):\n",
    "    return n * n\n",
    "\n",
    "def get_sq_distance(p0, p1):\n",
    "    return sq(p1['lat'] - p0['lat']) + sq(p1['lon'] - p0['lon'])\n",
    "\n",
    "def get_polar_points(p0, loop):\n",
    "    polar_points = [{\n",
    "        **point, \n",
    "        'ang': get_polar_angle(p0, point),\n",
    "        'dist': get_sq_distance(p0, point)\n",
    "    } for point in loop]\n",
    "\n",
    "    furthest_polar_points = dict()\n",
    "    for point in polar_points:\n",
    "        if point['ang'] in furthest_polar_points:\n",
    "            if point['dist'] > furthest_polar_points[point['ang']]['dist']:\n",
    "                furthest_polar_points[point['ang']] = point\n",
    "        else:\n",
    "            furthest_polar_points[point['ang']] = point\n",
    "    \n",
    "    sorted_points = [v for k, v in sorted(furthest_polar_points.items(), key=lambda s: s[0])]\n",
    "    return sorted_points\n",
    "\n",
    "def ccw(p0, p1, p2):\n",
    "    return (p1['lon'] - p0['lon']) * (p2['lat'] - p0['lat']) - (p2['lon'] - p0['lon']) * (p1['lat'] - p0['lat']); \n",
    "\n",
    "def graham_scan(loop):\n",
    "    stack = []\n",
    "    p0 = get_lowest_left(loop)\n",
    "    \n",
    "    polar_points = get_polar_points(p0, loop)\n",
    "    for point in polar_points:\n",
    "        while len(stack) > 1 and ccw(stack[-2], stack[-1], point) <= 0:\n",
    "            del stack[-1]\n",
    "        stack.append(point)\n",
    "        \n",
    "    return stack"
   ]
  },
  {
   "cell_type": "code",
   "execution_count": null,
   "id": "8ff0e4eb",
   "metadata": {},
   "outputs": [],
   "source": [
    "envelopes = [graham_scan(loop) for loop in loops]\n",
    "#envelopes = [graham_scan(loops[0])]"
   ]
  },
  {
   "cell_type": "code",
   "execution_count": null,
   "id": "7378b9eb",
   "metadata": {
    "scrolled": false
   },
   "outputs": [],
   "source": [
    "print(f'Original: {len(loops[0])}')\n",
    "print(f'Envelope: {len(envelopes[0])}')\n",
    "compare_map = loop_list_map(loops, style={'fill': False})\n",
    "compare_map = loop_list_map(envelopes, compare_map, {'color': '#ff0000', 'fill': False})\n",
    "compare_map"
   ]
  },
  {
   "cell_type": "code",
   "execution_count": null,
   "id": "736bb596",
   "metadata": {},
   "outputs": [],
   "source": [
    "def side_of_line(p0, p1, point):\n",
    "    return (point['lat'] - p0['lat']) * (p1['lon'] - p0['lon']) - (point['lon'] - p0['lon']) * (p1['lat'] - p0['lat'])\n",
    "\n",
    "def inside_convex(convex, point):\n",
    "    overall_side = 0\n",
    "    for idx, p in enumerate(convex):\n",
    "        side = side_of_line(p, convex[(idx + 1) % len(convex)], point)\n",
    "        \n",
    "        if side == 0:\n",
    "            return True\n",
    "        \n",
    "        if idx == 0:\n",
    "            overall_side = side > 0\n",
    "        elif (side > 0) != overall_side:\n",
    "            return False\n",
    "    return True\n",
    "\n",
    "def crossing_direction(p0, p1, point):\n",
    "    if point['lat'] >= p0['lat'] and point['lat'] < p1['lat']:\n",
    "        return -1\n",
    "    if point['lat'] >= p1['lat'] and point['lat'] < p0['lat']:\n",
    "        return 1\n",
    "    return 0\n",
    "\n",
    "def inside_complex(polygon, point):\n",
    "    winding_order = 0\n",
    "    for idx, p in enumerate(polygon):\n",
    "        side = side_of_line(p, polygon[(idx + 1) % len(polygon)], point)\n",
    "        if side == 0:\n",
    "            return True\n",
    "        \n",
    "        crossing = crossing_direction(p, polygon[(idx + 1) % len(polygon)], point)\n",
    "        if crossing != 0:\n",
    "            if crossing == 1 and side > 0:\n",
    "                winding_order = winding_order + 1\n",
    "            elif crossing == -1 and side < 0:\n",
    "                winding_order = winding_order - 1\n",
    "\n",
    "    return winding_order != 0\n",
    "\n",
    "def get_bounds(loop):\n",
    "    minlat = loop[0]['lat']\n",
    "    minlon = loop[0]['lon']\n",
    "    maxlat = loop[0]['lat']\n",
    "    maxlon = loop[0]['lon']\n",
    "    \n",
    "    for p in loop:\n",
    "        if p['lat'] < minlat: minlat = p['lat']\n",
    "        if p['lat'] > maxlat: maxlat = p['lat']\n",
    "        if p['lon'] < minlon: minlon = p['lon']\n",
    "        if p['lon'] > maxlon: maxlon = p['lon']\n",
    "            \n",
    "    return [minlat, maxlat, minlon, maxlon]\n",
    "\n",
    "def point_inside_bounds(bounds, point):\n",
    "    return (\n",
    "        point['lat'] >= bounds[0] and\n",
    "        point['lat'] <= bounds[1] and\n",
    "        point['lon'] >= bounds[2] and\n",
    "        point['lon'] <= bounds[3]\n",
    "    )\n",
    "\n",
    "def inside_bounds(bounds, point):\n",
    "    return point_inside_bounds(bounds, point)"
   ]
  },
  {
   "cell_type": "code",
   "execution_count": null,
   "id": "912c2438",
   "metadata": {},
   "outputs": [],
   "source": [
    "def get_icon(is_inside):\n",
    "    if is_inside:\n",
    "        return BeautifyIcon(\"check\", icon_shape=\"marker\", border_color=\"#0f0\", text_color=\"#0f0\")\n",
    "    else:\n",
    "        return BeautifyIcon(\"times\", icon_shape=\"marker\", border_color=\"#f00\", text_color=\"#f00\")\n",
    "\n",
    "test_points = [\n",
    "    {'lat': -35.2975906, 'lon': 149.1012676},\n",
    "    {'lat': -39.23225, 'lon': 158.37891},\n",
    "    envelopes[0][0],\n",
    "    \n",
    "    {'lat': envelopes[0][100]['lat'], 'lon': envelopes[0][100]['lon']},\n",
    "    {'lat': envelopes[0][100]['lat'], 'lon': envelopes[0][100]['lon'] - 0.01},\n",
    "    {'lat': envelopes[0][100]['lat'], 'lon': envelopes[0][100]['lon'] + 0.01},\n",
    "    \n",
    "    {'lat': envelopes[0][150]['lat'], 'lon': envelopes[0][150]['lon']},\n",
    "    {'lat': envelopes[0][150]['lat'], 'lon': envelopes[0][150]['lon'] - 0.0001},\n",
    "    {'lat': envelopes[0][150]['lat'], 'lon': envelopes[0][150]['lon'] + 0.0001},\n",
    "    \n",
    "    {'lat': -39.77477, 'lon': 145.63477},\n",
    "]\n",
    "\n",
    "minlat = -55.3228175\n",
    "minlon = 72.2461932\n",
    "maxlat = -9.0880125\n",
    "maxlon = 168.2261259\n",
    "\n",
    "n = 10\n",
    "for i in range(n):\n",
    "    for j in range(n):\n",
    "        test_points.append({\n",
    "            'lat': minlat + ((maxlat - minlat) / n) * i,\n",
    "            'lon': minlon + ((maxlon - minlon) / n) * j\n",
    "        })"
   ]
  },
  {
   "cell_type": "code",
   "execution_count": null,
   "id": "8eae4205",
   "metadata": {
    "scrolled": true
   },
   "outputs": [],
   "source": [
    "point_test_map = loop_list_map([envelopes[0]], style={'fill': False})\n",
    "MousePosition(position='topright', separator=' | ', prefix=\"Mouse:\",).add_to(point_test_map)\n",
    "\n",
    "bounds = get_bounds(envelopes[0])\n",
    "for point in test_points:\n",
    "    is_inside = inside_bounds(bounds, point)\n",
    "    \n",
    "    folium.Marker(location=(point['lat'], point['lon']), icon=get_icon(is_inside)).add_to(point_test_map)\n",
    "\n",
    "point_test_map"
   ]
  },
  {
   "cell_type": "code",
   "execution_count": null,
   "id": "161ecd77",
   "metadata": {
    "scrolled": true
   },
   "outputs": [],
   "source": [
    "point_test_map = loop_list_map([envelopes[0]], style={'fill': False})\n",
    "MousePosition(position='topright', separator=' | ', prefix=\"Mouse:\",).add_to(point_test_map)\n",
    "\n",
    "for point in test_points:\n",
    "    is_inside = inside_convex(envelopes[0], point)\n",
    "    \n",
    "    folium.Marker(location=(point['lat'], point['lon']), icon=get_icon(is_inside)).add_to(point_test_map)\n",
    "\n",
    "point_test_map"
   ]
  },
  {
   "cell_type": "code",
   "execution_count": null,
   "id": "d225a966",
   "metadata": {
    "scrolled": true
   },
   "outputs": [],
   "source": [
    "point_test_map = loop_list_map([envelopes[0]], style={'fill': False})\n",
    "MousePosition(position='topright', separator=' | ', prefix=\"Mouse:\",).add_to(point_test_map)\n",
    "\n",
    "for point in test_points:\n",
    "    is_inside = inside_complex(envelopes[0], point)\n",
    "    \n",
    "    folium.Marker(location=(point['lat'], point['lon']), icon=get_icon(is_inside)).add_to(point_test_map)\n",
    "\n",
    "point_test_map"
   ]
  },
  {
   "cell_type": "code",
   "execution_count": null,
   "id": "1227e46a",
   "metadata": {
    "scrolled": true
   },
   "outputs": [],
   "source": [
    "point_test_map = loop_list_map([loops[0]], style={'fill': False})\n",
    "MousePosition(position='topright', separator=' | ', prefix=\"Mouse:\",).add_to(point_test_map)\n",
    "\n",
    "for point in test_points:\n",
    "    is_inside = inside_complex(loops[0], point)\n",
    "    \n",
    "    folium.Marker(location=(point['lat'], point['lon']), icon=get_icon(is_inside)).add_to(point_test_map)\n",
    "    \n",
    "point_test_map"
   ]
  },
  {
   "cell_type": "code",
   "execution_count": null,
   "id": "6e6c321c",
   "metadata": {
    "scrolled": false
   },
   "outputs": [],
   "source": [
    "# Unfair if other funcs have pre-calculated boundaries\n",
    "bounds = get_bounds(loops[0])\n",
    "\n",
    "def test_algo(name, algo_funcs, test_points, boundaries, timings):\n",
    "    start_time = time.time()\n",
    "    \n",
    "    for point in test_points:\n",
    "        for idx, algo in enumerate(algo_funcs):\n",
    "            if not algo(boundaries[idx], point):\n",
    "                break\n",
    "        \n",
    "    timings = timings.append({\n",
    "        'Title': name, \n",
    "        'Time': (time.time() - start_time),\n",
    "        'Boundary Count': len(boundaries[0]) if len(boundaries) == 1 else None,\n",
    "        'Test Point Count': len(test_points),\n",
    "    }, ignore_index=True)\n",
    "    return timings\n",
    "\n",
    "def test_algos(point_count, timings):\n",
    "    timing_test_points = []\n",
    "\n",
    "    for i in range(point_count):\n",
    "        for j in range(point_count):\n",
    "            timing_test_points.append({\n",
    "#                 'lat': bounds[0] + ((bounds[1] - bounds[0]) / point_count) * i,\n",
    "#                 'lon': bounds[2] + ((bounds[3] - bounds[2]) / point_count) * j\n",
    "                'lat': -90 + (180 / point_count) * i,\n",
    "                'lon': -180 + (360 / point_count) * j\n",
    "            })\n",
    "            \n",
    "    timings = test_algo('Bounds', [inside_bounds], timing_test_points, [bounds], timings)\n",
    "    timings = test_algo('Convex Envelope', [inside_convex], timing_test_points, [envelopes[0]], timings)\n",
    "    timings = test_algo('Complex Envelope', [inside_complex], timing_test_points, [envelopes[0]], timings)\n",
    "    timings = test_algo('Complex Loop', [inside_complex], timing_test_points, [loops[0]], timings)\n",
    "    timings = test_algo('Convex then Complex', [inside_convex, inside_complex], timing_test_points, [envelopes[0], loops[0]], timings)\n",
    "    timings = test_algo('Bounds then Convex', [inside_bounds, inside_convex], timing_test_points, [bounds, envelopes[0]], timings)\n",
    "    timings = test_algo('Bounds then Complex', [inside_bounds, inside_complex], timing_test_points, [bounds, loops[0]], timings)\n",
    "    timings = test_algo('Bounds then Convex then Complex', [inside_bounds, inside_convex, inside_complex], timing_test_points, [bounds, envelopes[0], loops[0]], timings)\n",
    "    \n",
    "    return timings\n",
    "       \n",
    "timings = pd.DataFrame(\n",
    "    columns=['Title', 'Time', 'Boundary Count', 'Test Point Count']\n",
    ")\n",
    "overall_start_time = time.time()\n",
    "\n",
    "timings = test_algos(10, timings)\n",
    "timings = test_algos(20, timings)\n",
    "timings = test_algos(50, timings)\n",
    "timings = test_algos(200, timings)\n",
    "\n",
    "print(f\"Execution time: {time.time() - overall_start_time} seconds\")\n",
    "timings"
   ]
  },
  {
   "cell_type": "code",
   "execution_count": null,
   "id": "d46ebc9e",
   "metadata": {},
   "outputs": [],
   "source": [
    "bounds = get_bounds(loops[0])\n",
    "\n",
    "timings2 = pd.DataFrame(\n",
    "    columns=['Title', 'Time', 'Boundary Count', 'Test Point Count']\n",
    ")\n",
    "timing_test_points2 = []\n",
    "\n",
    "point_count = 200\n",
    "for i in range(point_count):\n",
    "    for j in range(point_count):\n",
    "        timing_test_points2.append({\n",
    "            'lat': bounds[0] + ((bounds[1] - bounds[0]) / point_count) * i,\n",
    "            'lon': bounds[2] + ((bounds[3] - bounds[2]) / point_count) * j\n",
    "        })\n",
    "\n",
    "timings2 = test_algo('Bounds', [inside_bounds], timing_test_points2, [bounds], timings2)\n",
    "\n",
    "timings2"
   ]
  },
  {
   "cell_type": "code",
   "execution_count": null,
   "id": "0544a336",
   "metadata": {},
   "outputs": [],
   "source": []
  }
 ],
 "metadata": {
  "kernelspec": {
   "display_name": "Python 3 (ipykernel)",
   "language": "python",
   "name": "python3"
  },
  "language_info": {
   "codemirror_mode": {
    "name": "ipython",
    "version": 3
   },
   "file_extension": ".py",
   "mimetype": "text/x-python",
   "name": "python",
   "nbconvert_exporter": "python",
   "pygments_lexer": "ipython3",
   "version": "3.7.2"
  },
  "varInspector": {
   "cols": {
    "lenName": 16,
    "lenType": 16,
    "lenVar": 40
   },
   "kernels_config": {
    "python": {
     "delete_cmd_postfix": "",
     "delete_cmd_prefix": "del ",
     "library": "var_list.py",
     "varRefreshCmd": "print(var_dic_list())"
    },
    "r": {
     "delete_cmd_postfix": ") ",
     "delete_cmd_prefix": "rm(",
     "library": "var_list.r",
     "varRefreshCmd": "cat(var_dic_list()) "
    }
   },
   "types_to_exclude": [
    "module",
    "function",
    "builtin_function_or_method",
    "instance",
    "_Feature"
   ],
   "window_display": false
  }
 },
 "nbformat": 4,
 "nbformat_minor": 5
}
